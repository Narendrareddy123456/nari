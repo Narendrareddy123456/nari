{
 "cells": [
  {
   "cell_type": "code",
   "execution_count": 7,
   "id": "54ba68b7",
   "metadata": {},
   "outputs": [
    {
     "name": "stdout",
     "output_type": "stream",
     "text": [
      "[45, 25, 6, 8, 2, 8]\n",
      "[8, 2]\n",
      "[25, 6]\n",
      "[45, 25, 6]\n",
      "[6, 8, 2, 8]\n"
     ]
    },
    {
     "ename": "NameError",
     "evalue": "name 'true' is not defined",
     "output_type": "error",
     "traceback": [
      "\u001b[1;31m---------------------------------------------------------------------------\u001b[0m",
      "\u001b[1;31mNameError\u001b[0m                                 Traceback (most recent call last)",
      "Cell \u001b[1;32mIn[7], line 7\u001b[0m\n\u001b[0;32m      5\u001b[0m \u001b[38;5;28mprint\u001b[39m(data[:\u001b[38;5;241m3\u001b[39m])\n\u001b[0;32m      6\u001b[0m \u001b[38;5;28mprint\u001b[39m(data[\u001b[38;5;241m2\u001b[39m:])  \n\u001b[1;32m----> 7\u001b[0m data\u001b[38;5;241m.\u001b[39msort(reverse\u001b[38;5;241m=\u001b[39mtrue)  \n\u001b[0;32m      8\u001b[0m \u001b[38;5;28mprint\u001b[39m(data)\n\u001b[0;32m      9\u001b[0m \u001b[38;5;28mprint\u001b[39m(\u001b[38;5;28mmax\u001b[39m(data))\n",
      "\u001b[1;31mNameError\u001b[0m: name 'true' is not defined"
     ]
    }
   ],
   "source": [
    "data=[45,25,6,8,2,8]\n",
    "print(data)\n",
    "print(data[3:5])\n",
    "print(data[1:3])\n",
    "print(data[:3])\n",
    "print(data[2:])  \n",
    "data.sort(reverse=true)  \n",
    "print(data)\n",
    "print(max(data))\n",
    "print(min(data))\n",
    "print(data)\n",
    "data.sort(reverse=false)\n",
    "print(data)\n",
    "print(max(data))\n",
    "print(min(data))\n",
    "print(sum(data))       "
   ]
  },
  {
   "cell_type": "code",
   "execution_count": null,
   "id": "229a9813",
   "metadata": {},
   "outputs": [],
   "source": [
    " \n",
    "    \n",
    " "
   ]
  },
  {
   "cell_type": "code",
   "execution_count": null,
   "id": "c648398f",
   "metadata": {},
   "outputs": [],
   "source": [
    "\n",
    "\n"
   ]
  }
 ],
 "metadata": {
  "kernelspec": {
   "display_name": "Python 3 (ipykernel)",
   "language": "python",
   "name": "python3"
  },
  "language_info": {
   "codemirror_mode": {
    "name": "ipython",
    "version": 3
   },
   "file_extension": ".py",
   "mimetype": "text/x-python",
   "name": "python",
   "nbconvert_exporter": "python",
   "pygments_lexer": "ipython3",
   "version": "3.11.4"
  }
 },
 "nbformat": 4,
 "nbformat_minor": 5
}
